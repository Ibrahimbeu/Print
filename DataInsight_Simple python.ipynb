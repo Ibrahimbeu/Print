{
 "cells": [
  {
   "cell_type": "code",
   "execution_count": 9,
   "metadata": {},
   "outputs": [
    {
     "name": "stdout",
     "output_type": "stream",
     "text": [
      "ibrahim@gmail.com\n",
      "\n",
      "Username:ibrahim\n",
      "\n",
      "\n",
      "Domain:gmail.com\n",
      "\n"
     ]
    }
   ],
   "source": [
    "#  Get username and domain\n",
    "email_adress=input()\n",
    "email_adress=email_adress.split(\"@\",1)\n",
    "print(\"\"\"\n",
    "Username:{0}\n",
    "\\n\n",
    "Domain:{1}\n",
    "\"\"\".format(email_adress[0],email_adress[1]))"
   ]
  },
  {
   "cell_type": "code",
   "execution_count": 28,
   "metadata": {},
   "outputs": [
    {
     "name": "stdout",
     "output_type": "stream",
     "text": [
      "dd\n"
     ]
    },
    {
     "data": {
      "text/plain": [
       "'Invalid'"
      ]
     },
     "execution_count": 28,
     "metadata": {},
     "output_type": "execute_result"
    }
   ],
   "source": [
    "# Check Mail adress is Valid or not\n",
    "import re\n",
    "email_adress=input()\n",
    "reg= r'\\b[A-Za-z0-9._%+-]+@[A-Za-z0-9.-]+\\.[A-Z|a-z]{2,}\\b'\n",
    "def mail_check(adress):\n",
    "    if (re.fullmatch(reg,adress)):\n",
    "        return (\"Valid\")\n",
    "    else:\n",
    "        return (\"Invalid\")\n",
    "mail_check(email_adress)"
   ]
  },
  {
   "cell_type": "code",
   "execution_count": 35,
   "metadata": {},
   "outputs": [
    {
     "name": "stdout",
     "output_type": "stream",
     "text": [
      "ibrahim.hh@gmail.com\n",
      "\n",
      "         Name:Ibrahim\n",
      "         \n",
      "\n",
      "         Surname:Hh\n",
      "          \n"
     ]
    }
   ],
   "source": [
    "# Get name and Surname adn  capitalize it via python functions\n",
    "email_adress=input()\n",
    "# ad.soyad@gmail\n",
    "def Capitalize(adress):\n",
    "    if mail_check(email_adress)==\"Valid\":\n",
    "        sp= adress.split(\"@\")\n",
    "        sp= sp[0].split(\".\")\n",
    "        var=list(map(str,[i.capitalize() for i in sp]))\n",
    "        return (\"\"\"\n",
    "         Name:{0}\n",
    "         \\n\n",
    "         Surname:{1}\n",
    "          \"\"\".format(var[0],var[1]))\n",
    "    else:\n",
    "        return False\n",
    "if Capitalize(email_adress)==False:\n",
    "    print(\"It is not valid adress\")\n",
    "else:\n",
    "    print(Capitalize(email_adress))"
   ]
  },
  {
   "cell_type": "code",
   "execution_count": null,
   "metadata": {},
   "outputs": [],
   "source": []
  }
 ],
 "metadata": {
  "kernelspec": {
   "display_name": "Python 3",
   "language": "python",
   "name": "python3"
  },
  "language_info": {
   "codemirror_mode": {
    "name": "ipython",
    "version": 3
   },
   "file_extension": ".py",
   "mimetype": "text/x-python",
   "name": "python",
   "nbconvert_exporter": "python",
   "pygments_lexer": "ipython3",
   "version": "3.7.7"
  }
 },
 "nbformat": 4,
 "nbformat_minor": 4
}
